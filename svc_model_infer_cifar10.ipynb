{
 "cells": [
  {
   "cell_type": "markdown",
   "metadata": {},
   "source": [
    "### Use SVC image classifier for multiple categories for cifar10"
   ]
  },
  {
   "cell_type": "code",
   "execution_count": 3,
   "metadata": {},
   "outputs": [],
   "source": [
    "import pandas as pd \n",
    "import numpy as np\n",
    "# from skimage.transform import resize \n",
    "# from skimage.io import imread \n",
    "import matplotlib.pyplot as plt \n",
    "# from sklearn.model_selection import GridSearchCV\n",
    "import joblib\n",
    "from keras.datasets import cifar10"
   ]
  },
  {
   "cell_type": "code",
   "execution_count": 2,
   "metadata": {},
   "outputs": [],
   "source": [
    "model = joblib.load('svc_classifier.pkl')"
   ]
  },
  {
   "cell_type": "code",
   "execution_count": 6,
   "metadata": {},
   "outputs": [],
   "source": [
    "categories=['airplane','automobile'] "
   ]
  },
  {
   "cell_type": "code",
   "execution_count": 5,
   "metadata": {},
   "outputs": [
    {
     "name": "stdout",
     "output_type": "stream",
     "text": [
      "Test: X=(20, 32, 32, 3), y=(20, 1)\n"
     ]
    }
   ],
   "source": [
    "# load dataset\n",
    "(trainX, trainy), (testX, testy) = cifar10.load_data()\n",
    "\n",
    "subset_testX = testX[np.isin(testy, [0,1]).flatten()]\n",
    "subset_testy = testy[np.isin(testy, [0,1]).flatten()]\n",
    "\n",
    "# Shuffle first (optional)\n",
    "idx = np.arange(len(subset_testX))\n",
    "np.random.shuffle(idx)\n",
    "# get first 1% of data\n",
    "subset_testX = subset_testX[:int(.01*len(idx))]\n",
    "subset_testy = subset_testy[:int(.01*len(idx))]\n",
    "\n",
    "# summarize loaded dataset\n",
    "print('Test: X=%s, y=%s' % (subset_testX.shape, subset_testy.shape))"
   ]
  },
  {
   "cell_type": "code",
   "execution_count": 18,
   "metadata": {},
   "outputs": [
    {
     "data": {
      "image/png": "[encoded data removed]",
      "text/plain": [
       "<Figure size 640x480 with 1 Axes>"
      ]
     },
     "metadata": {},
     "output_type": "display_data"
    }
   ],
   "source": [
    "img=subset_testX[6]\n",
    "plt.imshow(img) \n",
    "plt.show() "
   ]
  },
  {
   "cell_type": "code",
   "execution_count": 19,
   "metadata": {},
   "outputs": [
    {
     "name": "stdout",
     "output_type": "stream",
     "text": [
      "airplane = 56.237462001161234%\n",
      "automobile = 43.76253799883876%\n",
      "The predicted image is : airplane\n"
     ]
    }
   ],
   "source": [
    "# img_resize=resize(img,(150,150,3)) \n",
    "l=[img.flatten()] \n",
    "probability=model.predict_proba(l) \n",
    "for ind,val in enumerate(categories): \n",
    "\tprint(f'{val} = {probability[0][ind]*100}%') \n",
    "print(\"The predicted image is : \"+categories[model.predict(l)[0]])"
   ]
  },
  {
   "cell_type": "code",
   "execution_count": null,
   "metadata": {},
   "outputs": [],
   "source": []
  }
 ],
 "metadata": {
  "kernelspec": {
   "display_name": ".venv",
   "language": "python",
   "name": "python3"
  },
  "language_info": {
   "codemirror_mode": {
    "name": "ipython",
    "version": 3
   },
   "file_extension": ".py",
   "mimetype": "text/x-python",
   "name": "python",
   "nbconvert_exporter": "python",
   "pygments_lexer": "ipython3",
   "version": "3.11.9"
  }
 },
 "nbformat": 4,
 "nbformat_minor": 2
}
