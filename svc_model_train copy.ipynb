{
 "cells": [
  {
   "cell_type": "markdown",
   "metadata": {},
   "source": [
    "### Train SVC image classifier for multiple categories\n",
    "- font: https://www.geeksforgeeks.org/image-classification-using-support-vector-machine-svm-in-python/"
   ]
  },
  {
   "cell_type": "code",
   "execution_count": null,
   "metadata": {},
   "outputs": [],
   "source": [
    "import pandas as pd \n",
    "import os \n",
    "from skimage.transform import resize \n",
    "from skimage.io import imread \n",
    "import numpy as np \n",
    "import matplotlib.pyplot as plt \n",
    "from sklearn import svm \n",
    "from sklearn.model_selection import GridSearchCV \n",
    "from sklearn.model_selection import train_test_split \n",
    "from sklearn.metrics import accuracy_score \n",
    "from sklearn.metrics import classification_report\n",
    "import joblib"
   ]
  },
  {
   "cell_type": "code",
   "execution_count": null,
   "metadata": {},
   "outputs": [],
   "source": [
    "## Use custom images for model training\n",
    "\n",
    "Categories=['cats','dogs'] \n",
    "flat_data_arr=[] #input array # X_train\n",
    "target_arr=[] #output array # y_train\n",
    "datadir='train_images/'\n",
    "#path which contains all the categories of images \n",
    "for i in Categories: \n",
    "\t\n",
    "\tprint(f'loading... category : {i}') \n",
    "\tpath=os.path.join(datadir,i) \n",
    "\tfor img in os.listdir(path): \n",
    "\t\timg_array=imread(os.path.join(path,img)) \n",
    "\t\timg_resized=resize(img_array,(150,150,3)) \n",
    "\t\tflat_data_arr.append(img_resized.flatten()) \n",
    "\t\ttarget_arr.append(Categories.index(i)) \n",
    "\tprint(f'loaded category:{i} successfully') \n",
    "flat_data=np.array(flat_data_arr) \n",
    "target=np.array(target_arr)"
   ]
  },
  {
   "cell_type": "code",
   "execution_count": null,
   "metadata": {},
   "outputs": [],
   "source": [
    "#dataframe \n",
    "df=pd.DataFrame(flat_data) \n",
    "df['Target']=target \n",
    "df.shape"
   ]
  },
  {
   "cell_type": "code",
   "execution_count": null,
   "metadata": {},
   "outputs": [],
   "source": [
    "#input data \n",
    "x=df.iloc[:,:-1] \n",
    "#output data \n",
    "y=df.iloc[:,-1]"
   ]
  },
  {
   "cell_type": "code",
   "execution_count": null,
   "metadata": {},
   "outputs": [],
   "source": [
    "# Splitting the data into training and testing sets \n",
    "x_train,x_test,y_train,y_test=train_test_split(x,y,test_size=0.20, \n",
    "\t\t\t\t\t\t\t\t\t\t\trandom_state=77, \n",
    "\t\t\t\t\t\t\t\t\t\t\tstratify=y) "
   ]
  },
  {
   "cell_type": "code",
   "execution_count": null,
   "metadata": {},
   "outputs": [],
   "source": [
    "# Defining the parameters grid for GridSearchCV \n",
    "param_grid={'C':[0.1,1,10,100], \n",
    "\t\t\t'gamma':[0.0001,0.001,0.1,1], \n",
    "\t\t\t'kernel':['rbf','poly']} \n",
    "\n",
    "# Creating a support vector classifier \n",
    "svc=svm.SVC(probability=True) \n",
    "\n",
    "# Creating a model using GridSearchCV with the parameters grid \n",
    "model=GridSearchCV(svc,param_grid)"
   ]
  },
  {
   "cell_type": "code",
   "execution_count": null,
   "metadata": {},
   "outputs": [],
   "source": [
    "# Training the model using the training data \n",
    "model.fit(x_train,y_train)"
   ]
  },
  {
   "cell_type": "code",
   "execution_count": null,
   "metadata": {},
   "outputs": [],
   "source": [
    "# Testing the model using the testing data \n",
    "y_pred = model.predict(x_test) \n",
    "\n",
    "# Calculating the accuracy of the model \n",
    "accuracy = accuracy_score(y_pred, y_test) \n",
    "\n",
    "# Print the accuracy of the model \n",
    "print(f\"The model is {accuracy*100}% accurate\")"
   ]
  },
  {
   "cell_type": "code",
   "execution_count": null,
   "metadata": {},
   "outputs": [],
   "source": [
    "print(classification_report(y_test, y_pred, target_names=['cat', 'dog']))"
   ]
  },
  {
   "cell_type": "code",
   "execution_count": null,
   "metadata": {},
   "outputs": [],
   "source": [
    "joblib.dump(model, 'svc_classifier.pkl')"
   ]
  }
 ],
 "metadata": {
  "kernelspec": {
   "display_name": "Python 3",
   "language": "python",
   "name": "python3"
  },
  "language_info": {
   "name": "python",
   "version": "3.12.1"
  }
 },
 "nbformat": 4,
 "nbformat_minor": 2
}
