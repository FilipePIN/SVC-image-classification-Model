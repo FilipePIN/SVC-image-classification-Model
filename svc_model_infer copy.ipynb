{
 "cells": [
  {
   "cell_type": "markdown",
   "metadata": {},
   "source": [
    "### Use SVC image classifier for multiple categories"
   ]
  },
  {
   "cell_type": "code",
   "execution_count": null,
   "metadata": {},
   "outputs": [],
   "source": [
    "import pandas as pd \n",
    "# import os \n",
    "from skimage.transform import resize \n",
    "from skimage.io import imread \n",
    "# import numpy as np \n",
    "import matplotlib.pyplot as plt \n",
    "# from sklearn import svm \n",
    "from sklearn.model_selection import GridSearchCV \n",
    "# from sklearn.model_selection import train_test_split \n",
    "# from sklearn.metrics import accuracy_score \n",
    "# from sklearn.metrics import classification_report\n",
    "import joblib"
   ]
  },
  {
   "cell_type": "code",
   "execution_count": null,
   "metadata": {},
   "outputs": [],
   "source": [
    "model = joblib.load('svc_classifier.pkl')"
   ]
  },
  {
   "cell_type": "code",
   "execution_count": null,
   "metadata": {},
   "outputs": [],
   "source": [
    "categories=['airplane','automobile'] "
   ]
  },
  {
   "cell_type": "code",
   "execution_count": null,
   "metadata": {},
   "outputs": [],
   "source": [
    "path='dataset/test_set/dogs/dog.4001.jpg'\n",
    "img=imread(path) \n",
    "plt.imshow(img) \n",
    "plt.show() \n",
    "img_resize=resize(img,(150,150,3)) \n",
    "l=[img_resize.flatten()] \n",
    "probability=model.predict_proba(l) \n",
    "for ind,val in enumerate(categories): \n",
    "\tprint(f'{val} = {probability[0][ind]*100}%') \n",
    "print(\"The predicted image is : \"+categories[model.predict(l)[0]])\n"
   ]
  }
 ],
 "metadata": {
  "language_info": {
   "name": "python"
  }
 },
 "nbformat": 4,
 "nbformat_minor": 2
}
